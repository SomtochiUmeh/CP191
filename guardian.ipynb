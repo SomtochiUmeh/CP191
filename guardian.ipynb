{
 "cells": [
  {
   "cell_type": "code",
   "execution_count": 1,
   "metadata": {},
   "outputs": [],
   "source": [
    "import matplotlib.pyplot as plt\n",
    "import pandas as pd\n",
    "import seaborn as sns"
   ]
  },
  {
   "cell_type": "code",
   "execution_count": 2,
   "metadata": {},
   "outputs": [
    {
     "data": {
      "text/html": [
       "<div>\n",
       "<style scoped>\n",
       "    .dataframe tbody tr th:only-of-type {\n",
       "        vertical-align: middle;\n",
       "    }\n",
       "\n",
       "    .dataframe tbody tr th {\n",
       "        vertical-align: top;\n",
       "    }\n",
       "\n",
       "    .dataframe thead th {\n",
       "        text-align: right;\n",
       "    }\n",
       "</style>\n",
       "<table border=\"1\" class=\"dataframe\">\n",
       "  <thead>\n",
       "    <tr style=\"text-align: right;\">\n",
       "      <th></th>\n",
       "      <th>YEAR</th>\n",
       "      <th>PAPER</th>\n",
       "      <th>DATE OF REPORT</th>\n",
       "      <th>DATE OF INCIDENT</th>\n",
       "      <th>LOCATION</th>\n",
       "      <th>HEADLINE</th>\n",
       "      <th>LINK</th>\n",
       "    </tr>\n",
       "  </thead>\n",
       "  <tbody>\n",
       "    <tr>\n",
       "      <th>0</th>\n",
       "      <td>2017.0</td>\n",
       "      <td>Guardian</td>\n",
       "      <td>20-Mar-17</td>\n",
       "      <td>NaN</td>\n",
       "      <td>NaN</td>\n",
       "      <td>Tension as Fulani herdsman murders farmer in O...</td>\n",
       "      <td>https://guardian.ng/news/tension-as-fulani-her...</td>\n",
       "    </tr>\n",
       "    <tr>\n",
       "      <th>1</th>\n",
       "      <td>NaN</td>\n",
       "      <td>NaN</td>\n",
       "      <td>28-Sep-17</td>\n",
       "      <td>NaN</td>\n",
       "      <td>NaN</td>\n",
       "      <td>Why Nigeria did not declare Fulani herdsmen as...</td>\n",
       "      <td>https://guardian.ng/news/why-nigeria-did-not-d...</td>\n",
       "    </tr>\n",
       "    <tr>\n",
       "      <th>2</th>\n",
       "      <td>NaN</td>\n",
       "      <td>NaN</td>\n",
       "      <td>3-Nov-17</td>\n",
       "      <td>NaN</td>\n",
       "      <td>NaN</td>\n",
       "      <td>Fulani herdsmen? Here are the grim statistics</td>\n",
       "      <td>https://guardian.ng/opinion/fulani-herdsmen-he...</td>\n",
       "    </tr>\n",
       "    <tr>\n",
       "      <th>3</th>\n",
       "      <td>2018.0</td>\n",
       "      <td>Guardian</td>\n",
       "      <td>3-Jan-18</td>\n",
       "      <td>1-Jan-18</td>\n",
       "      <td>Logo and Guma Local Government Areas (LGA) of ...</td>\n",
       "      <td>Herdsmen kill 50 in Benue communities</td>\n",
       "      <td>https://guardian.ng/news/herdsmen-kill-50-in-b...</td>\n",
       "    </tr>\n",
       "    <tr>\n",
       "      <th>4</th>\n",
       "      <td>NaN</td>\n",
       "      <td>NaN</td>\n",
       "      <td>6-Jan-18</td>\n",
       "      <td>NaN</td>\n",
       "      <td>NaN</td>\n",
       "      <td>Why we attacked Benue communities – Herdsmen</td>\n",
       "      <td>https://guardian.ng/news/why-we-attacked-benue...</td>\n",
       "    </tr>\n",
       "  </tbody>\n",
       "</table>\n",
       "</div>"
      ],
      "text/plain": [
       "     YEAR     PAPER DATE OF REPORT DATE OF INCIDENT  \\\n",
       "0  2017.0  Guardian      20-Mar-17              NaN   \n",
       "1     NaN       NaN      28-Sep-17              NaN   \n",
       "2     NaN       NaN       3-Nov-17              NaN   \n",
       "3  2018.0  Guardian       3-Jan-18         1-Jan-18   \n",
       "4     NaN       NaN       6-Jan-18              NaN   \n",
       "\n",
       "                                            LOCATION  \\\n",
       "0                                                NaN   \n",
       "1                                                NaN   \n",
       "2                                                NaN   \n",
       "3  Logo and Guma Local Government Areas (LGA) of ...   \n",
       "4                                                NaN   \n",
       "\n",
       "                                            HEADLINE  \\\n",
       "0  Tension as Fulani herdsman murders farmer in O...   \n",
       "1  Why Nigeria did not declare Fulani herdsmen as...   \n",
       "2      Fulani herdsmen? Here are the grim statistics   \n",
       "3              Herdsmen kill 50 in Benue communities   \n",
       "4       Why we attacked Benue communities – Herdsmen   \n",
       "\n",
       "                                                LINK  \n",
       "0  https://guardian.ng/news/tension-as-fulani-her...  \n",
       "1  https://guardian.ng/news/why-nigeria-did-not-d...  \n",
       "2  https://guardian.ng/opinion/fulani-herdsmen-he...  \n",
       "3  https://guardian.ng/news/herdsmen-kill-50-in-b...  \n",
       "4  https://guardian.ng/news/why-we-attacked-benue...  "
      ]
     },
     "execution_count": 2,
     "metadata": {},
     "output_type": "execute_result"
    }
   ],
   "source": [
    "raw_data = pd.read_csv(\"Fulani Herdsmen Data/guardian-Table 1.csv\")\n",
    "raw_data.head()"
   ]
  },
  {
   "cell_type": "code",
   "execution_count": 3,
   "metadata": {},
   "outputs": [
    {
     "data": {
      "text/plain": [
       "Index(['YEAR', 'PAPER', 'DATE OF REPORT', 'DATE OF INCIDENT', 'LOCATION',\n",
       "       'HEADLINE', 'LINK'],\n",
       "      dtype='object')"
      ]
     },
     "execution_count": 3,
     "metadata": {},
     "output_type": "execute_result"
    }
   ],
   "source": [
    "raw_data.columns"
   ]
  },
  {
   "cell_type": "code",
   "execution_count": 4,
   "metadata": {},
   "outputs": [
    {
     "name": "stdout",
     "output_type": "stream",
     "text": [
      "<class 'pandas.core.frame.DataFrame'>\n",
      "RangeIndex: 96 entries, 0 to 95\n",
      "Data columns (total 7 columns):\n",
      " #   Column            Non-Null Count  Dtype  \n",
      "---  ------            --------------  -----  \n",
      " 0   YEAR              3 non-null      float64\n",
      " 1   PAPER             3 non-null      object \n",
      " 2   DATE OF REPORT    96 non-null     object \n",
      " 3   DATE OF INCIDENT  13 non-null     object \n",
      " 4   LOCATION          23 non-null     object \n",
      " 5   HEADLINE          96 non-null     object \n",
      " 6   LINK              96 non-null     object \n",
      "dtypes: float64(1), object(6)\n",
      "memory usage: 5.4+ KB\n"
     ]
    }
   ],
   "source": [
    "raw_data.info()"
   ]
  },
  {
   "cell_type": "code",
   "execution_count": 5,
   "metadata": {},
   "outputs": [
    {
     "data": {
      "image/png": "[encoded data removed]",
      "text/plain": [
       "<Figure size 432x288 with 2 Axes>"
      ]
     },
     "metadata": {
      "needs_background": "light"
     },
     "output_type": "display_data"
    }
   ],
   "source": [
    "sns.heatmap(raw_data.isnull())\n",
    "plt.show()"
   ]
  },
  {
   "cell_type": "code",
   "execution_count": 6,
   "metadata": {},
   "outputs": [
    {
     "data": {
      "text/plain": [
       "YEAR                float64\n",
       "PAPER                object\n",
       "DATE OF REPORT       object\n",
       "DATE OF INCIDENT     object\n",
       "LOCATION             object\n",
       "HEADLINE             object\n",
       "LINK                 object\n",
       "dtype: object"
      ]
     },
     "execution_count": 6,
     "metadata": {},
     "output_type": "execute_result"
    }
   ],
   "source": [
    "raw_data.dtypes"
   ]
  },
  {
   "cell_type": "code",
   "execution_count": 7,
   "metadata": {},
   "outputs": [],
   "source": [
    "def valid_datetime_string(string):\n",
    "\n",
    "    try:\n",
    "        pd.Timestamp(string)\n",
    "    except:\n",
    "        return False\n",
    "    \n",
    "    return True"
   ]
  },
  {
   "cell_type": "code",
   "execution_count": 8,
   "metadata": {},
   "outputs": [
    {
     "data": {
      "text/html": [
       "<div>\n",
       "<style scoped>\n",
       "    .dataframe tbody tr th:only-of-type {\n",
       "        vertical-align: middle;\n",
       "    }\n",
       "\n",
       "    .dataframe tbody tr th {\n",
       "        vertical-align: top;\n",
       "    }\n",
       "\n",
       "    .dataframe thead th {\n",
       "        text-align: right;\n",
       "    }\n",
       "</style>\n",
       "<table border=\"1\" class=\"dataframe\">\n",
       "  <thead>\n",
       "    <tr style=\"text-align: right;\">\n",
       "      <th></th>\n",
       "      <th>YEAR</th>\n",
       "      <th>PAPER</th>\n",
       "      <th>DATE OF REPORT</th>\n",
       "      <th>DATE OF INCIDENT</th>\n",
       "      <th>LOCATION</th>\n",
       "      <th>HEADLINE</th>\n",
       "      <th>LINK</th>\n",
       "    </tr>\n",
       "  </thead>\n",
       "  <tbody>\n",
       "    <tr>\n",
       "      <th>0</th>\n",
       "      <td>2017.0</td>\n",
       "      <td>Guardian</td>\n",
       "      <td>20-Mar-17</td>\n",
       "      <td>NaN</td>\n",
       "      <td>NaN</td>\n",
       "      <td>Tension as Fulani herdsman murders farmer in O...</td>\n",
       "      <td>https://guardian.ng/news/tension-as-fulani-her...</td>\n",
       "    </tr>\n",
       "    <tr>\n",
       "      <th>1</th>\n",
       "      <td>NaN</td>\n",
       "      <td>NaN</td>\n",
       "      <td>28-Sep-17</td>\n",
       "      <td>NaN</td>\n",
       "      <td>NaN</td>\n",
       "      <td>Why Nigeria did not declare Fulani herdsmen as...</td>\n",
       "      <td>https://guardian.ng/news/why-nigeria-did-not-d...</td>\n",
       "    </tr>\n",
       "    <tr>\n",
       "      <th>2</th>\n",
       "      <td>NaN</td>\n",
       "      <td>NaN</td>\n",
       "      <td>3-Nov-17</td>\n",
       "      <td>NaN</td>\n",
       "      <td>NaN</td>\n",
       "      <td>Fulani herdsmen? Here are the grim statistics</td>\n",
       "      <td>https://guardian.ng/opinion/fulani-herdsmen-he...</td>\n",
       "    </tr>\n",
       "    <tr>\n",
       "      <th>3</th>\n",
       "      <td>2018.0</td>\n",
       "      <td>Guardian</td>\n",
       "      <td>3-Jan-18</td>\n",
       "      <td>1-Jan-18</td>\n",
       "      <td>Logo and Guma Local Government Areas (LGA) of ...</td>\n",
       "      <td>Herdsmen kill 50 in Benue communities</td>\n",
       "      <td>https://guardian.ng/news/herdsmen-kill-50-in-b...</td>\n",
       "    </tr>\n",
       "    <tr>\n",
       "      <th>4</th>\n",
       "      <td>NaN</td>\n",
       "      <td>NaN</td>\n",
       "      <td>6-Jan-18</td>\n",
       "      <td>NaN</td>\n",
       "      <td>NaN</td>\n",
       "      <td>Why we attacked Benue communities – Herdsmen</td>\n",
       "      <td>https://guardian.ng/news/why-we-attacked-benue...</td>\n",
       "    </tr>\n",
       "  </tbody>\n",
       "</table>\n",
       "</div>"
      ],
      "text/plain": [
       "     YEAR     PAPER DATE OF REPORT DATE OF INCIDENT  \\\n",
       "0  2017.0  Guardian      20-Mar-17              NaN   \n",
       "1     NaN       NaN      28-Sep-17              NaN   \n",
       "2     NaN       NaN       3-Nov-17              NaN   \n",
       "3  2018.0  Guardian       3-Jan-18         1-Jan-18   \n",
       "4     NaN       NaN       6-Jan-18              NaN   \n",
       "\n",
       "                                            LOCATION  \\\n",
       "0                                                NaN   \n",
       "1                                                NaN   \n",
       "2                                                NaN   \n",
       "3  Logo and Guma Local Government Areas (LGA) of ...   \n",
       "4                                                NaN   \n",
       "\n",
       "                                            HEADLINE  \\\n",
       "0  Tension as Fulani herdsman murders farmer in O...   \n",
       "1  Why Nigeria did not declare Fulani herdsmen as...   \n",
       "2      Fulani herdsmen? Here are the grim statistics   \n",
       "3              Herdsmen kill 50 in Benue communities   \n",
       "4       Why we attacked Benue communities – Herdsmen   \n",
       "\n",
       "                                                LINK  \n",
       "0  https://guardian.ng/news/tension-as-fulani-her...  \n",
       "1  https://guardian.ng/news/why-nigeria-did-not-d...  \n",
       "2  https://guardian.ng/opinion/fulani-herdsmen-he...  \n",
       "3  https://guardian.ng/news/herdsmen-kill-50-in-b...  \n",
       "4  https://guardian.ng/news/why-we-attacked-benue...  "
      ]
     },
     "execution_count": 8,
     "metadata": {},
     "output_type": "execute_result"
    }
   ],
   "source": [
    "clean = raw_data[raw_data['DATE OF REPORT'].map(valid_datetime_string)]\n",
    "clean.head()"
   ]
  },
  {
   "cell_type": "code",
   "execution_count": 9,
   "metadata": {},
   "outputs": [
    {
     "name": "stdout",
     "output_type": "stream",
     "text": [
      "<class 'pandas.core.frame.DataFrame'>\n",
      "Int64Index: 95 entries, 0 to 95\n",
      "Data columns (total 7 columns):\n",
      " #   Column            Non-Null Count  Dtype         \n",
      "---  ------            --------------  -----         \n",
      " 0   YEAR              3 non-null      float64       \n",
      " 1   PAPER             3 non-null      object        \n",
      " 2   DATE OF REPORT    95 non-null     datetime64[ns]\n",
      " 3   DATE OF INCIDENT  13 non-null     object        \n",
      " 4   LOCATION          23 non-null     object        \n",
      " 5   HEADLINE          95 non-null     object        \n",
      " 6   LINK              95 non-null     object        \n",
      "dtypes: datetime64[ns](1), float64(1), object(5)\n",
      "memory usage: 5.9+ KB\n"
     ]
    },
    {
     "name": "stderr",
     "output_type": "stream",
     "text": [
      "/var/folders/j0/tm8cdfh92s1gygqzq23h32sc0000gn/T/ipykernel_21376/767432500.py:1: SettingWithCopyWarning: \n",
      "A value is trying to be set on a copy of a slice from a DataFrame.\n",
      "Try using .loc[row_indexer,col_indexer] = value instead\n",
      "\n",
      "See the caveats in the documentation: https://pandas.pydata.org/pandas-docs/stable/user_guide/indexing.html#returning-a-view-versus-a-copy\n",
      "  clean['DATE OF REPORT'] = pd.to_datetime(clean['DATE OF REPORT'])\n"
     ]
    }
   ],
   "source": [
    "clean['DATE OF REPORT'] = pd.to_datetime(clean['DATE OF REPORT'])\n",
    "clean.info()"
   ]
  },
  {
   "cell_type": "code",
   "execution_count": 10,
   "metadata": {},
   "outputs": [
    {
     "name": "stderr",
     "output_type": "stream",
     "text": [
      "/var/folders/j0/tm8cdfh92s1gygqzq23h32sc0000gn/T/ipykernel_21376/2167403154.py:2: SettingWithCopyWarning: \n",
      "A value is trying to be set on a copy of a slice from a DataFrame\n",
      "\n",
      "See the caveats in the documentation: https://pandas.pydata.org/pandas-docs/stable/user_guide/indexing.html#returning-a-view-versus-a-copy\n",
      "  clean.drop(labels=labels, axis=1, inplace=True)\n"
     ]
    },
    {
     "data": {
      "text/html": [
       "<div>\n",
       "<style scoped>\n",
       "    .dataframe tbody tr th:only-of-type {\n",
       "        vertical-align: middle;\n",
       "    }\n",
       "\n",
       "    .dataframe tbody tr th {\n",
       "        vertical-align: top;\n",
       "    }\n",
       "\n",
       "    .dataframe thead th {\n",
       "        text-align: right;\n",
       "    }\n",
       "</style>\n",
       "<table border=\"1\" class=\"dataframe\">\n",
       "  <thead>\n",
       "    <tr style=\"text-align: right;\">\n",
       "      <th></th>\n",
       "      <th>DATE OF REPORT</th>\n",
       "      <th>HEADLINE</th>\n",
       "    </tr>\n",
       "  </thead>\n",
       "  <tbody>\n",
       "    <tr>\n",
       "      <th>0</th>\n",
       "      <td>2017-03-20</td>\n",
       "      <td>Tension as Fulani herdsman murders farmer in O...</td>\n",
       "    </tr>\n",
       "    <tr>\n",
       "      <th>1</th>\n",
       "      <td>2017-09-28</td>\n",
       "      <td>Why Nigeria did not declare Fulani herdsmen as...</td>\n",
       "    </tr>\n",
       "    <tr>\n",
       "      <th>2</th>\n",
       "      <td>2017-11-03</td>\n",
       "      <td>Fulani herdsmen? Here are the grim statistics</td>\n",
       "    </tr>\n",
       "    <tr>\n",
       "      <th>3</th>\n",
       "      <td>2018-01-03</td>\n",
       "      <td>Herdsmen kill 50 in Benue communities</td>\n",
       "    </tr>\n",
       "    <tr>\n",
       "      <th>4</th>\n",
       "      <td>2018-01-06</td>\n",
       "      <td>Why we attacked Benue communities – Herdsmen</td>\n",
       "    </tr>\n",
       "  </tbody>\n",
       "</table>\n",
       "</div>"
      ],
      "text/plain": [
       "  DATE OF REPORT                                           HEADLINE\n",
       "0     2017-03-20  Tension as Fulani herdsman murders farmer in O...\n",
       "1     2017-09-28  Why Nigeria did not declare Fulani herdsmen as...\n",
       "2     2017-11-03      Fulani herdsmen? Here are the grim statistics\n",
       "3     2018-01-03              Herdsmen kill 50 in Benue communities\n",
       "4     2018-01-06       Why we attacked Benue communities – Herdsmen"
      ]
     },
     "execution_count": 10,
     "metadata": {},
     "output_type": "execute_result"
    }
   ],
   "source": [
    "labels = [\"YEAR\", \"PAPER\", \"DATE OF INCIDENT\", \"LOCATION\", \"LINK\"]\n",
    "clean.drop(labels=labels, axis=1, inplace=True)\n",
    "clean.head()"
   ]
  },
  {
   "cell_type": "code",
   "execution_count": 11,
   "metadata": {},
   "outputs": [
    {
     "name": "stderr",
     "output_type": "stream",
     "text": [
      "[nltk_data] Downloading package vader_lexicon to\n",
      "[nltk_data]     /Users/somto/nltk_data...\n",
      "[nltk_data]   Package vader_lexicon is already up-to-date!\n"
     ]
    },
    {
     "data": {
      "text/html": [
       "<div>\n",
       "<style scoped>\n",
       "    .dataframe tbody tr th:only-of-type {\n",
       "        vertical-align: middle;\n",
       "    }\n",
       "\n",
       "    .dataframe tbody tr th {\n",
       "        vertical-align: top;\n",
       "    }\n",
       "\n",
       "    .dataframe thead th {\n",
       "        text-align: right;\n",
       "    }\n",
       "</style>\n",
       "<table border=\"1\" class=\"dataframe\">\n",
       "  <thead>\n",
       "    <tr style=\"text-align: right;\">\n",
       "      <th></th>\n",
       "      <th>neg</th>\n",
       "      <th>neu</th>\n",
       "      <th>pos</th>\n",
       "      <th>compound</th>\n",
       "      <th>DATE OF REPORT</th>\n",
       "      <th>HEADLINE</th>\n",
       "      <th>ID</th>\n",
       "    </tr>\n",
       "  </thead>\n",
       "  <tbody>\n",
       "    <tr>\n",
       "      <th>0</th>\n",
       "      <td>0.441</td>\n",
       "      <td>0.559</td>\n",
       "      <td>0.0</td>\n",
       "      <td>-0.7430</td>\n",
       "      <td>2017-03-20</td>\n",
       "      <td>Tension as Fulani herdsman murders farmer in O...</td>\n",
       "      <td>0</td>\n",
       "    </tr>\n",
       "    <tr>\n",
       "      <th>1</th>\n",
       "      <td>0.291</td>\n",
       "      <td>0.709</td>\n",
       "      <td>0.0</td>\n",
       "      <td>-0.6249</td>\n",
       "      <td>2017-09-28</td>\n",
       "      <td>Why Nigeria did not declare Fulani herdsmen as...</td>\n",
       "      <td>1</td>\n",
       "    </tr>\n",
       "    <tr>\n",
       "      <th>2</th>\n",
       "      <td>0.381</td>\n",
       "      <td>0.619</td>\n",
       "      <td>0.0</td>\n",
       "      <td>-0.5719</td>\n",
       "      <td>2017-11-03</td>\n",
       "      <td>Fulani herdsmen? Here are the grim statistics</td>\n",
       "      <td>2</td>\n",
       "    </tr>\n",
       "    <tr>\n",
       "      <th>3</th>\n",
       "      <td>0.485</td>\n",
       "      <td>0.515</td>\n",
       "      <td>0.0</td>\n",
       "      <td>-0.6908</td>\n",
       "      <td>2018-01-03</td>\n",
       "      <td>Herdsmen kill 50 in Benue communities</td>\n",
       "      <td>3</td>\n",
       "    </tr>\n",
       "    <tr>\n",
       "      <th>4</th>\n",
       "      <td>0.375</td>\n",
       "      <td>0.625</td>\n",
       "      <td>0.0</td>\n",
       "      <td>-0.4588</td>\n",
       "      <td>2018-01-06</td>\n",
       "      <td>Why we attacked Benue communities – Herdsmen</td>\n",
       "      <td>4</td>\n",
       "    </tr>\n",
       "  </tbody>\n",
       "</table>\n",
       "</div>"
      ],
      "text/plain": [
       "     neg    neu  pos  compound DATE OF REPORT  \\\n",
       "0  0.441  0.559  0.0   -0.7430     2017-03-20   \n",
       "1  0.291  0.709  0.0   -0.6249     2017-09-28   \n",
       "2  0.381  0.619  0.0   -0.5719     2017-11-03   \n",
       "3  0.485  0.515  0.0   -0.6908     2018-01-03   \n",
       "4  0.375  0.625  0.0   -0.4588     2018-01-06   \n",
       "\n",
       "                                            HEADLINE  ID  \n",
       "0  Tension as Fulani herdsman murders farmer in O...   0  \n",
       "1  Why Nigeria did not declare Fulani herdsmen as...   1  \n",
       "2      Fulani herdsmen? Here are the grim statistics   2  \n",
       "3              Herdsmen kill 50 in Benue communities   3  \n",
       "4       Why we attacked Benue communities – Herdsmen   4  "
      ]
     },
     "execution_count": 11,
     "metadata": {},
     "output_type": "execute_result"
    }
   ],
   "source": [
    "import nltk\n",
    "\n",
    "nltk.download('vader_lexicon')\n",
    "\n",
    "from nltk.sentiment.vader import SentimentIntensityAnalyzer as SIA\n",
    "\n",
    "sia = SIA()\n",
    "\n",
    "results = [sia.polarity_scores(line) for line in clean.HEADLINE]\n",
    "\n",
    "scores_df = pd.DataFrame.from_records(results)\n",
    "df = scores_df.join(clean, rsuffix=\"_right\")\n",
    "df['ID'] = df.index\n",
    "df.head()"
   ]
  },
  {
   "cell_type": "code",
   "execution_count": 12,
   "metadata": {},
   "outputs": [
    {
     "name": "stdout",
     "output_type": "stream",
     "text": [
      "Most negative: (20 Killed, many injured, as herdsmen attack Ortom’s village) 0.632, 0.368, 0.0\n",
      "Most neutral: (Buhari and the herdsmen’s endgame) 0.0, 1.0, 0.0\n",
      "Most positive: (Bauchi NSCDC deploys Agro Rangers to protect farmers, herdsmen) 0.0, 0.69, 0.31\n"
     ]
    }
   ],
   "source": [
    "negative = df.iloc[df.neg.idxmax()]\n",
    "neutral = df.iloc[df.neu.idxmax()]\n",
    "positive = df.iloc[df.pos.idxmax()]\n",
    "\n",
    "print(f'Most negative: ({negative.HEADLINE}) {negative.neg}, {negative.neu}, {negative.pos}')\n",
    "print(f'Most neutral: ({neutral.HEADLINE}) {neutral.neg}, {neutral.neu}, {neutral.pos}')\n",
    "print(f'Most positive: ({positive.HEADLINE}) {positive.neg}, {positive.neu}, {positive.pos}')"
   ]
  },
  {
   "cell_type": "code",
   "execution_count": 15,
   "metadata": {},
   "outputs": [
    {
     "data": {
      "text/html": [
       "\n",
       "<style>\n",
       "  #altair-viz-978f09360f384bfb8684f69cfe49ab42.vega-embed {\n",
       "    width: 100%;\n",
       "    display: flex;\n",
       "  }\n",
       "\n",
       "  #altair-viz-978f09360f384bfb8684f69cfe49ab42.vega-embed details,\n",
       "  #altair-viz-978f09360f384bfb8684f69cfe49ab42.vega-embed details summary {\n",
       "    position: relative;\n",
       "  }\n",
       "</style>\n",
       "<div id=\"altair-viz-978f09360f384bfb8684f69cfe49ab42\"></div>\n",
       "<script type=\"text/javascript\">\n",
       "  var VEGA_DEBUG = (typeof VEGA_DEBUG == \"undefined\") ? {} : VEGA_DEBUG;\n",
       "  (function(spec, embedOpt){\n",
       "    let outputDiv = document.currentScript.previousElementSibling;\n",
       "    if (outputDiv.id !== \"altair-viz-978f09360f384bfb8684f69cfe49ab42\") {\n",
       "      outputDiv = document.getElementById(\"altair-viz-978f09360f384bfb8684f69cfe49ab42\");\n",
       "    }\n",
       "    const paths = {\n",
       "      \"vega\": \"https://cdn.jsdelivr.net/npm/vega@5?noext\",\n",
       "      \"vega-lib\": \"https://cdn.jsdelivr.net/npm/vega-lib?noext\",\n",
       "      \"vega-lite\": \"https://cdn.jsdelivr.net/npm/vega-lite@5.15.1?noext\",\n",
       "      \"vega-embed\": \"https://cdn.jsdelivr.net/npm/vega-embed@6?noext\",\n",
       "    };\n",
       "\n",
       "    function maybeLoadScript(lib, version) {\n",
       "      var key = `${lib.replace(\"-\", \"\")}_version`;\n",
       "      return (VEGA_DEBUG[key] == version) ?\n",
       "        Promise.resolve(paths[lib]) :\n",
       "        new Promise(function(resolve, reject) {\n",
       "          var s = document.createElement('script');\n",
       "          document.getElementsByTagName(\"head\")[0].appendChild(s);\n",
       "          s.async = true;\n",
       "          s.onload = () => {\n",
       "            VEGA_DEBUG[key] = version;\n",
       "            return resolve(paths[lib]);\n",
       "          };\n",
       "          s.onerror = () => reject(`Error loading script: ${paths[lib]}`);\n",
       "          s.src = paths[lib];\n",
       "        });\n",
       "    }\n",
       "\n",
       "    function showError(err) {\n",
       "      outputDiv.innerHTML = `<div class=\"error\" style=\"color:red;\">${err}</div>`;\n",
       "      throw err;\n",
       "    }\n",
       "\n",
       "    function displayChart(vegaEmbed) {\n",
       "      vegaEmbed(outputDiv, spec, embedOpt)\n",
       "        .catch(err => showError(`Javascript Error: ${err.message}<br>This usually means there's a typo in your chart specification. See the javascript console for the full traceback.`));\n",
       "    }\n",
       "\n",
       "    if(typeof define === \"function\" && define.amd) {\n",
       "      requirejs.config({paths});\n",
       "      require([\"vega-embed\"], displayChart, err => showError(`Error loading script: ${err.message}`));\n",
       "    } else {\n",
       "      maybeLoadScript(\"vega\", \"5\")\n",
       "        .then(() => maybeLoadScript(\"vega-lite\", \"5.15.1\"))\n",
       "        .then(() => maybeLoadScript(\"vega-embed\", \"6\"))\n",
       "        .catch(showError)\n",
       "        .then(() => displayChart(vegaEmbed));\n",
       "    }\n",
       "  })({\"config\": {\"view\": {\"continuousWidth\": 300, \"continuousHeight\": 300}}, \"data\": {\"name\": \"data-09b2282edda8c698ab1e72efdaa55889\"}, \"mark\": {\"type\": \"bar\", \"width\": 15}, \"encoding\": {\"color\": {\"field\": \"compound_trunc\", \"scale\": {\"scheme\": \"redyellowgreen\"}, \"type\": \"quantitative\"}, \"tooltip\": [{\"field\": \"compound_trunc\", \"type\": \"quantitative\"}, {\"field\": \"count\", \"type\": \"quantitative\"}], \"x\": {\"axis\": {\"title\": \"Polarity Score\"}, \"field\": \"compound_trunc\", \"type\": \"quantitative\"}, \"y\": {\"axis\": {\"title\": \"Number of headlines\"}, \"field\": \"count\", \"type\": \"quantitative\"}}, \"title\": \"Polarity scores of Guardian Newspaper Herdsmen Headlines (2017-2019)\", \"$schema\": \"https://vega.github.io/schema/vega-lite/v5.15.1.json\", \"datasets\": {\"data-09b2282edda8c698ab1e72efdaa55889\": [{\"compound_trunc\": -0.9, \"count\": 4}, {\"compound_trunc\": -0.8, \"count\": 15}, {\"compound_trunc\": -0.7, \"count\": 10}, {\"compound_trunc\": -0.6, \"count\": 12}, {\"compound_trunc\": -0.5, \"count\": 10}, {\"compound_trunc\": -0.4, \"count\": 8}, {\"compound_trunc\": -0.3, \"count\": 7}, {\"compound_trunc\": -0.2, \"count\": 1}, {\"compound_trunc\": -0.1, \"count\": 2}, {\"compound_trunc\": 0.0, \"count\": 21}, {\"compound_trunc\": 0.1, \"count\": 1}, {\"compound_trunc\": 0.2, \"count\": 1}, {\"compound_trunc\": 0.3, \"count\": 1}, {\"compound_trunc\": 0.4, \"count\": 2}]}}, {\"mode\": \"vega-lite\"});\n",
       "</script>"
      ],
      "text/plain": [
       "alt.Chart(...)"
      ]
     },
     "execution_count": 15,
     "metadata": {},
     "output_type": "execute_result"
    }
   ],
   "source": [
    "import altair as alt\n",
    "\n",
    "df[\"compound_trunc\"] = df.compound.round(1) \n",
    "\n",
    "res = (df.groupby([\"compound_trunc\"])[\"ID\"]\n",
    "        .count()\n",
    "        .reset_index()\n",
    "        .rename(columns={\"ID\": \"count\"})\n",
    "      )\n",
    "\n",
    "hist = alt.Chart(res).mark_bar(width=15).encode(\n",
    "    alt.X(\"compound_trunc:Q\", axis=alt.Axis(title=\"Polarity Score\")),\n",
    "    y=alt.Y('count:Q', axis=alt.Axis(title=\"Number of headlines\")),\n",
    "    color=alt.Color('compound_trunc:Q', scale=alt.Scale(scheme='redyellowgreen')), \n",
    "    tooltip=['compound_trunc', 'count']\n",
    ").properties(\n",
    "    title=\"Polarity scores of Guardian Newspaper Herdsmen Headlines (2017-2019)\"\n",
    ")\n",
    "\n",
    "hist"
   ]
  },
  {
   "cell_type": "code",
   "execution_count": 16,
   "metadata": {},
   "outputs": [
    {
     "data": {
      "text/html": [
       "\n",
       "<style>\n",
       "  #altair-viz-979bcfe7f4754530ba5dce03d62c5ea3.vega-embed {\n",
       "    width: 100%;\n",
       "    display: flex;\n",
       "  }\n",
       "\n",
       "  #altair-viz-979bcfe7f4754530ba5dce03d62c5ea3.vega-embed details,\n",
       "  #altair-viz-979bcfe7f4754530ba5dce03d62c5ea3.vega-embed details summary {\n",
       "    position: relative;\n",
       "  }\n",
       "</style>\n",
       "<div id=\"altair-viz-979bcfe7f4754530ba5dce03d62c5ea3\"></div>\n",
       "<script type=\"text/javascript\">\n",
       "  var VEGA_DEBUG = (typeof VEGA_DEBUG == \"undefined\") ? {} : VEGA_DEBUG;\n",
       "  (function(spec, embedOpt){\n",
       "    let outputDiv = document.currentScript.previousElementSibling;\n",
       "    if (outputDiv.id !== \"altair-viz-979bcfe7f4754530ba5dce03d62c5ea3\") {\n",
       "      outputDiv = document.getElementById(\"altair-viz-979bcfe7f4754530ba5dce03d62c5ea3\");\n",
       "    }\n",
       "    const paths = {\n",
       "      \"vega\": \"https://cdn.jsdelivr.net/npm/vega@5?noext\",\n",
       "      \"vega-lib\": \"https://cdn.jsdelivr.net/npm/vega-lib?noext\",\n",
       "      \"vega-lite\": \"https://cdn.jsdelivr.net/npm/vega-lite@5.15.1?noext\",\n",
       "      \"vega-embed\": \"https://cdn.jsdelivr.net/npm/vega-embed@6?noext\",\n",
       "    };\n",
       "\n",
       "    function maybeLoadScript(lib, version) {\n",
       "      var key = `${lib.replace(\"-\", \"\")}_version`;\n",
       "      return (VEGA_DEBUG[key] == version) ?\n",
       "        Promise.resolve(paths[lib]) :\n",
       "        new Promise(function(resolve, reject) {\n",
       "          var s = document.createElement('script');\n",
       "          document.getElementsByTagName(\"head\")[0].appendChild(s);\n",
       "          s.async = true;\n",
       "          s.onload = () => {\n",
       "            VEGA_DEBUG[key] = version;\n",
       "            return resolve(paths[lib]);\n",
       "          };\n",
       "          s.onerror = () => reject(`Error loading script: ${paths[lib]}`);\n",
       "          s.src = paths[lib];\n",
       "        });\n",
       "    }\n",
       "\n",
       "    function showError(err) {\n",
       "      outputDiv.innerHTML = `<div class=\"error\" style=\"color:red;\">${err}</div>`;\n",
       "      throw err;\n",
       "    }\n",
       "\n",
       "    function displayChart(vegaEmbed) {\n",
       "      vegaEmbed(outputDiv, spec, embedOpt)\n",
       "        .catch(err => showError(`Javascript Error: ${err.message}<br>This usually means there's a typo in your chart specification. See the javascript console for the full traceback.`));\n",
       "    }\n",
       "\n",
       "    if(typeof define === \"function\" && define.amd) {\n",
       "      requirejs.config({paths});\n",
       "      require([\"vega-embed\"], displayChart, err => showError(`Error loading script: ${err.message}`));\n",
       "    } else {\n",
       "      maybeLoadScript(\"vega\", \"5\")\n",
       "        .then(() => maybeLoadScript(\"vega-lite\", \"5.15.1\"))\n",
       "        .then(() => maybeLoadScript(\"vega-embed\", \"6\"))\n",
       "        .catch(showError)\n",
       "        .then(() => displayChart(vegaEmbed));\n",
       "    }\n",
       "  })({\"config\": {\"view\": {\"continuousWidth\": 300, \"continuousHeight\": 300}}, \"data\": {\"name\": \"data-f060541672efb8c9cf2f92bf53c99c14\"}, \"mark\": {\"type\": \"point\"}, \"encoding\": {\"color\": {\"field\": \"compound\", \"scale\": {\"scheme\": \"redyellowgreen\"}, \"type\": \"quantitative\"}, \"tooltip\": [{\"field\": \"HEADLINE\", \"type\": \"nominal\"}, {\"field\": \"compound\", \"type\": \"quantitative\"}, {\"field\": \"DATE OF REPORT\", \"type\": \"temporal\"}], \"x\": {\"axis\": {\"title\": \"Date\"}, \"field\": \"DATE OF REPORT\", \"type\": \"temporal\"}, \"y\": {\"axis\": {\"title\": \"Polarity Score\"}, \"field\": \"compound\", \"type\": \"quantitative\"}}, \"title\": \"Polarity scores of Guardian Newspaper Herdsmen Headlines (2017-2019)\", \"$schema\": \"https://vega.github.io/schema/vega-lite/v5.15.1.json\", \"datasets\": {\"data-f060541672efb8c9cf2f92bf53c99c14\": [{\"neg\": 0.0, \"neu\": 1.0, \"pos\": 0.0, \"compound\": 0.0, \"DATE OF REPORT\": \"2018-06-28T00:00:00\", \"HEADLINE\": \"President Buhari or herdsman Buhari?\", \"ID\": 40, \"compound_trunc\": 0.0}, {\"neg\": 0.632, \"neu\": 0.368, \"pos\": 0.0, \"compound\": -0.8834, \"DATE OF REPORT\": \"2018-04-22T00:00:00\", \"HEADLINE\": \"20 Killed, many injured, as herdsmen attack Ortom\\u2019s village\", \"ID\": 31, \"compound_trunc\": -0.9}, {\"neg\": 0.0, \"neu\": 0.826, \"pos\": 0.174, \"compound\": 0.2263, \"DATE OF REPORT\": \"2019-01-02T00:00:00\", \"HEADLINE\": \"Herdsmen burn Ortom\\u2019s 250 hectares of rice farm worth N100m\", \"ID\": 46, \"compound_trunc\": 0.2}, {\"neg\": 0.306, \"neu\": 0.694, \"pos\": 0.0, \"compound\": -0.296, \"DATE OF REPORT\": \"2019-05-14T00:00:00\", \"HEADLINE\": \"Foundation sues government over alleged plan to pay Fulani herdsmen N100b to stop kidnapping\", \"ID\": 58, \"compound_trunc\": -0.3}, {\"neg\": 0.478, \"neu\": 0.522, \"pos\": 0.0, \"compound\": -0.7506, \"DATE OF REPORT\": \"2019-07-01T00:00:00\", \"HEADLINE\": \"\\u2018Ruga scheme for Fulani herdsmen has come to stay\\u2019\", \"ID\": 77, \"compound_trunc\": -0.8}, {\"neg\": 0.569, \"neu\": 0.431, \"pos\": 0.0, \"compound\": -0.765, \"DATE OF REPORT\": \"2019-02-21T00:00:00\", \"HEADLINE\": \"Suspected herdsmen kill 16 persons in Benue\", \"ID\": 49, \"compound_trunc\": -0.8}, {\"neg\": 0.286, \"neu\": 0.714, \"pos\": 0.0, \"compound\": -0.34, \"DATE OF REPORT\": \"2019-07-25T00:00:00\", \"HEADLINE\": \"Two women feared killed as herdsmen attack Tiv in Nasarawa, cleric urges peace in Taraba\", \"ID\": 87, \"compound_trunc\": -0.3}, {\"neg\": 0.231, \"neu\": 0.769, \"pos\": 0.0, \"compound\": -0.34, \"DATE OF REPORT\": \"2018-11-23T00:00:00\", \"HEADLINE\": \"Ekiti orders arrest of herdsmen carrying AK-47 rifles, others\", \"ID\": 44, \"compound_trunc\": -0.3}, {\"neg\": 0.256, \"neu\": 0.744, \"pos\": 0.0, \"compound\": -0.4767, \"DATE OF REPORT\": \"2019-08-14T00:00:00\", \"HEADLINE\": \"Government, police, deny herdsmen invasion in Kogi\", \"ID\": 88, \"compound_trunc\": -0.5}, {\"neg\": 0.478, \"neu\": 0.522, \"pos\": 0.0, \"compound\": -0.7506, \"DATE OF REPORT\": \"2019-08-20T00:00:00\", \"HEADLINE\": \"Southeast governors wants Buhari to delay airport closure, ban herdsmen\", \"ID\": 90, \"compound_trunc\": -0.8}, {\"neg\": 0.377, \"neu\": 0.479, \"pos\": 0.144, \"compound\": -0.5994, \"DATE OF REPORT\": \"2019-06-24T00:00:00\", \"HEADLINE\": \"Air Force denies retooling herdsmen in Enugu State\", \"ID\": 67, \"compound_trunc\": -0.6}, {\"neg\": 0.341, \"neu\": 0.659, \"pos\": 0.0, \"compound\": -0.4767, \"DATE OF REPORT\": \"2018-03-17T00:00:00\", \"HEADLINE\": \"Kogi attack: Natives square up to herdsmen\\u00a0\", \"ID\": 27, \"compound_trunc\": -0.5}, {\"neg\": 0.39, \"neu\": 0.61, \"pos\": 0.0, \"compound\": -0.4939, \"DATE OF REPORT\": \"2019-06-27T00:00:00\", \"HEADLINE\": \"Outrage trails Buhari\\u2019s plan to settle Fulani herdsmen\", \"ID\": 74, \"compound_trunc\": -0.5}, {\"neg\": 0.275, \"neu\": 0.725, \"pos\": 0.0, \"compound\": -0.4215, \"DATE OF REPORT\": \"2019-07-23T00:00:00\", \"HEADLINE\": \"Ajulo denies rumoured attack by Fulani herdsmen in Ondo State\", \"ID\": 84, \"compound_trunc\": -0.4}, {\"neg\": 0.516, \"neu\": 0.484, \"pos\": 0.0, \"compound\": -0.7506, \"DATE OF REPORT\": \"2018-04-24T00:00:00\", \"HEADLINE\": \"Eighteen killed in Benue church by suspected herdsmen\", \"ID\": 32, \"compound_trunc\": -0.8}, {\"neg\": 0.326, \"neu\": 0.674, \"pos\": 0.0, \"compound\": -0.4404, \"DATE OF REPORT\": \"2019-04-17T00:00:00\", \"HEADLINE\": \"Fayemi decries bloody herdsmen-farmers clash in Ekiti\", \"ID\": 55, \"compound_trunc\": -0.4}, {\"neg\": 0.176, \"neu\": 0.824, \"pos\": 0.0, \"compound\": -0.128, \"DATE OF REPORT\": \"2018-06-05T00:00:00\", \"HEADLINE\": \"Herdsmen abduct monarch in Delta, demand N15m ransom\", \"ID\": 39, \"compound_trunc\": -0.1}, {\"neg\": 0.0, \"neu\": 1.0, \"pos\": 0.0, \"compound\": 0.0, \"DATE OF REPORT\": \"2018-01-22T00:00:00\", \"HEADLINE\": \"Who are Fulani herdsmen?\", \"ID\": 10, \"compound_trunc\": 0.0}, {\"neg\": 0.381, \"neu\": 0.619, \"pos\": 0.0, \"compound\": -0.5719, \"DATE OF REPORT\": \"2017-11-03T00:00:00\", \"HEADLINE\": \"Fulani herdsmen? Here are the grim statistics\", \"ID\": 2, \"compound_trunc\": -0.6}, {\"neg\": 0.0, \"neu\": 1.0, \"pos\": 0.0, \"compound\": 0.0, \"DATE OF REPORT\": \"2018-06-03T00:00:00\", \"HEADLINE\": \"\\u2018Boko Haram, herdsmen depleting christian population\\u2019\", \"ID\": 38, \"compound_trunc\": 0.0}, {\"neg\": 0.343, \"neu\": 0.657, \"pos\": 0.0, \"compound\": -0.6908, \"DATE OF REPORT\": \"2019-04-16T00:00:00\", \"HEADLINE\": \"Herdsmen kill 25 persons, injure 21 in Nasarawa, Anambra, Ekiti\", \"ID\": 53, \"compound_trunc\": -0.7}, {\"neg\": 0.32, \"neu\": 0.68, \"pos\": 0.0, \"compound\": -0.5106, \"DATE OF REPORT\": \"2019-06-26T00:00:00\", \"HEADLINE\": \"Fulani leader warns herdsmen against plan to form vigilante in South East\", \"ID\": 73, \"compound_trunc\": -0.5}, {\"neg\": 0.0, \"neu\": 1.0, \"pos\": 0.0, \"compound\": 0.0, \"DATE OF REPORT\": \"2018-02-13T00:00:00\", \"HEADLINE\": \"Workers flee as herdsmen storm Akure council secretariat\", \"ID\": 19, \"compound_trunc\": 0.0}, {\"neg\": 0.424, \"neu\": 0.576, \"pos\": 0.0, \"compound\": -0.7096, \"DATE OF REPORT\": \"2019-08-14T00:00:00\", \"HEADLINE\": \"Kogi Government debunks allegation of herdsmen attack at motor park\", \"ID\": 89, \"compound_trunc\": -0.7}, {\"neg\": 0.0, \"neu\": 1.0, \"pos\": 0.0, \"compound\": 0.0, \"DATE OF REPORT\": \"2019-09-20T00:00:00\", \"HEADLINE\": \"CBN to support nomadic herdsmen livestock production\", \"ID\": 94, \"compound_trunc\": 0.0}, {\"neg\": 0.485, \"neu\": 0.515, \"pos\": 0.0, \"compound\": -0.765, \"DATE OF REPORT\": \"2018-04-26T00:00:00\", \"HEADLINE\": \"Again, suspected herdsmen kill seven Tiv farmers in Nasarawa\", \"ID\": 35, \"compound_trunc\": -0.8}, {\"neg\": 0.406, \"neu\": 0.594, \"pos\": 0.0, \"compound\": -0.6249, \"DATE OF REPORT\": \"2018-04-24T00:00:00\", \"HEADLINE\": \"Herdsmen/farmers crisis: ECOWAS set to review regulations\", \"ID\": 33, \"compound_trunc\": -0.6}, {\"neg\": 0.569, \"neu\": 0.431, \"pos\": 0.0, \"compound\": -0.765, \"DATE OF REPORT\": \"2019-02-01T00:00:00\", \"HEADLINE\": \"Herdsmen attack Delta community, kills police officer\", \"ID\": 48, \"compound_trunc\": -0.8}, {\"neg\": 0.448, \"neu\": 0.552, \"pos\": 0.0, \"compound\": -0.7579, \"DATE OF REPORT\": \"2019-06-25T00:00:00\", \"HEADLINE\": \"FG sets up farm settlements for herdsmen\", \"ID\": 70, \"compound_trunc\": -0.8}, {\"neg\": 0.286, \"neu\": 0.714, \"pos\": 0.0, \"compound\": -0.4215, \"DATE OF REPORT\": \"2019-06-13T00:00:00\", \"HEADLINE\": \"Suspected herdsmen rob commuters, kill civil servant on Ife-Ibadan highway\", \"ID\": 66, \"compound_trunc\": -0.4}, {\"neg\": 0.423, \"neu\": 0.577, \"pos\": 0.0, \"compound\": -0.765, \"DATE OF REPORT\": \"2019-04-17T00:00:00\", \"HEADLINE\": \"16 people kill by suspected herdsmen in Nasarawa get mass burial\", \"ID\": 54, \"compound_trunc\": -0.8}, {\"neg\": 0.293, \"neu\": 0.707, \"pos\": 0.0, \"compound\": -0.4404, \"DATE OF REPORT\": \"2018-04-27T00:00:00\", \"HEADLINE\": \"NEC bans open grazing as herdsmen attacks persist\", \"ID\": 36, \"compound_trunc\": -0.4}, {\"neg\": 0.324, \"neu\": 0.676, \"pos\": 0.0, \"compound\": -0.34, \"DATE OF REPORT\": \"2018-12-27T00:00:00\", \"HEADLINE\": \"The ominous silence of Fulani herdsmen\", \"ID\": 45, \"compound_trunc\": -0.3}, {\"neg\": 0.29, \"neu\": 0.494, \"pos\": 0.216, \"compound\": -0.296, \"DATE OF REPORT\": \"2019-03-22T00:00:00\", \"HEADLINE\": \"Gunmen kill lecturer in Enugu after farmers, herders peace meeting\", \"ID\": 52, \"compound_trunc\": -0.3}, {\"neg\": 0.581, \"neu\": 0.419, \"pos\": 0.0, \"compound\": -0.9022, \"DATE OF REPORT\": \"2018-03-12T00:00:00\", \"HEADLINE\": \"\\u2018Stop deliberation on hate speech bill until herdsmen attacks, killings end\\u2019\", \"ID\": 23, \"compound_trunc\": -0.9}, {\"neg\": 0.524, \"neu\": 0.476, \"pos\": 0.0, \"compound\": -0.765, \"DATE OF REPORT\": \"2018-04-25T00:00:00\", \"HEADLINE\": \"Suspected herdsmen kill two Catholic priests, 17 others\", \"ID\": 34, \"compound_trunc\": -0.8}, {\"neg\": 0.493, \"neu\": 0.507, \"pos\": 0.0, \"compound\": -0.7783, \"DATE OF REPORT\": \"2019-07-09T00:00:00\", \"HEADLINE\": \"Vigilance group arrests three herdsmen for alleged kidnapping in Ondo\", \"ID\": 81, \"compound_trunc\": -0.8}, {\"neg\": 0.306, \"neu\": 0.694, \"pos\": 0.0, \"compound\": -0.6597, \"DATE OF REPORT\": \"2019-05-01T00:00:00\", \"HEADLINE\": \"Buhari, IGP, urged to act on Fulani herdsmen killing in Delta\", \"ID\": 56, \"compound_trunc\": -0.7}, {\"neg\": 0.0, \"neu\": 0.755, \"pos\": 0.245, \"compound\": 0.3818, \"DATE OF REPORT\": \"2019-09-01T00:00:00\", \"HEADLINE\": \"We have placed ban on herdsmen movement, say Southeast governors\", \"ID\": 92, \"compound_trunc\": 0.4}, {\"neg\": 0.415, \"neu\": 0.377, \"pos\": 0.208, \"compound\": -0.5106, \"DATE OF REPORT\": \"2018-02-06T00:00:00\", \"HEADLINE\": \"Benue government loses confidence in FG over killer herdsmen\", \"ID\": 15, \"compound_trunc\": -0.5}, {\"neg\": 0.0, \"neu\": 1.0, \"pos\": 0.0, \"compound\": 0.0, \"DATE OF REPORT\": \"2019-07-06T00:00:00\", \"HEADLINE\": \"Northern elders worry over alleged harassment of Fulani herdsmen\", \"ID\": 78, \"compound_trunc\": 0.0}, {\"neg\": 0.369, \"neu\": 0.631, \"pos\": 0.0, \"compound\": -0.6249, \"DATE OF REPORT\": \"2018-08-17T00:00:00\", \"HEADLINE\": \"Ecologist\\u2019s perspective on herdsmen and farmers crisis \\u2013 Part 2\", \"ID\": 41, \"compound_trunc\": -0.6}, {\"neg\": 0.427, \"neu\": 0.435, \"pos\": 0.138, \"compound\": -0.8074, \"DATE OF REPORT\": \"2019-07-24T00:00:00\", \"HEADLINE\": \"Bandits and herdsmen\\u2019s mystery\", \"ID\": 86, \"compound_trunc\": -0.8}, {\"neg\": 0.362, \"neu\": 0.638, \"pos\": 0.0, \"compound\": -0.5267, \"DATE OF REPORT\": \"2018-03-17T00:00:00\", \"HEADLINE\": \"Herdsmen/farmers\\u2019 clash as threat to food production\", \"ID\": 26, \"compound_trunc\": -0.5}, {\"neg\": 0.0, \"neu\": 0.69, \"pos\": 0.31, \"compound\": 0.4019, \"DATE OF REPORT\": \"2019-09-02T00:00:00\", \"HEADLINE\": \"Bauchi NSCDC deploys Agro Rangers to protect farmers, herdsmen\", \"ID\": 93, \"compound_trunc\": 0.4}, {\"neg\": 0.417, \"neu\": 0.583, \"pos\": 0.0, \"compound\": -0.6486, \"DATE OF REPORT\": \"2018-11-22T00:00:00\", \"HEADLINE\": \"Farmer-herdsmen clash leaves 10 dead in Katsina\", \"ID\": 43, \"compound_trunc\": -0.6}, {\"neg\": 0.433, \"neu\": 0.567, \"pos\": 0.0, \"compound\": -0.8555, \"DATE OF REPORT\": \"2019-05-20T00:00:00\", \"HEADLINE\": \"No herdsmen invasion in Enugu \\u2013 Police\", \"ID\": 59, \"compound_trunc\": -0.9}, {\"neg\": 0.375, \"neu\": 0.625, \"pos\": 0.0, \"compound\": -0.4588, \"DATE OF REPORT\": \"2018-01-06T00:00:00\", \"HEADLINE\": \"Why we attacked Benue communities \\u2013 Herdsmen\", \"ID\": 4, \"compound_trunc\": -0.5}, {\"neg\": 0.593, \"neu\": 0.407, \"pos\": 0.0, \"compound\": -0.8807, \"DATE OF REPORT\": \"2019-06-11T00:00:00\", \"HEADLINE\": \"Herdsmen abduct mother, stepson for N10m ransom, Akeredolu escapes kidnap attempt\", \"ID\": 65, \"compound_trunc\": -0.9}, {\"neg\": 0.257, \"neu\": 0.571, \"pos\": 0.171, \"compound\": -0.296, \"DATE OF REPORT\": \"2018-02-25T00:00:00\", \"HEADLINE\": \"Oba Of Benin convenes security meeting on herdsmen, illegal migration\", \"ID\": 21, \"compound_trunc\": -0.3}, {\"neg\": 0.255, \"neu\": 0.745, \"pos\": 0.0, \"compound\": -0.34, \"DATE OF REPORT\": \"2019-07-16T00:00:00\", \"HEADLINE\": \"Police arrest three herdsmen for killing farmer in Ogun\", \"ID\": 82, \"compound_trunc\": -0.3}, {\"neg\": 0.485, \"neu\": 0.515, \"pos\": 0.0, \"compound\": -0.6908, \"DATE OF REPORT\": \"2018-01-03T00:00:00\", \"HEADLINE\": \"Herdsmen kill 50 in Benue communities\", \"ID\": 3, \"compound_trunc\": -0.7}, {\"neg\": 0.0, \"neu\": 1.0, \"pos\": 0.0, \"compound\": 0.0, \"DATE OF REPORT\": \"2019-06-25T00:00:00\", \"HEADLINE\": \"FG sets up farm settlements for herdsmen\", \"ID\": 69, \"compound_trunc\": 0.0}, {\"neg\": 0.534, \"neu\": 0.259, \"pos\": 0.207, \"compound\": -0.5859, \"DATE OF REPORT\": \"2018-03-20T00:00:00\", \"HEADLINE\": \"Herdsmen Attacks: A national security failure \\u2013 Part 2\", \"ID\": 30, \"compound_trunc\": -0.6}, {\"neg\": 0.174, \"neu\": 0.826, \"pos\": 0.0, \"compound\": -0.2263, \"DATE OF REPORT\": \"2019-05-25T00:00:00\", \"HEADLINE\": \"Tor Tiv proffers solution to farmers/herdsmen clash\", \"ID\": 62, \"compound_trunc\": -0.2}, {\"neg\": 0.213, \"neu\": 0.787, \"pos\": 0.0, \"compound\": -0.4019, \"DATE OF REPORT\": \"2018-10-31T00:00:00\", \"HEADLINE\": \"Taraba farmers lose over 750 hectares of rice farm to herdsmen\", \"ID\": 42, \"compound_trunc\": -0.4}, {\"neg\": 0.0, \"neu\": 1.0, \"pos\": 0.0, \"compound\": 0.0, \"DATE OF REPORT\": \"2019-01-03T00:00:00\", \"HEADLINE\": \"Kidnapped Catholic priests recount ordeal with armed herdsmen\", \"ID\": 47, \"compound_trunc\": 0.0}, {\"neg\": 0.562, \"neu\": 0.438, \"pos\": 0.0, \"compound\": -0.8271, \"DATE OF REPORT\": \"2019-03-18T00:00:00\", \"HEADLINE\": \"MASSOB condemns post-election killing of Christians by herdsmen\", \"ID\": 51, \"compound_trunc\": -0.8}, {\"neg\": 0.424, \"neu\": 0.576, \"pos\": 0.0, \"compound\": -0.7096, \"DATE OF REPORT\": \"2019-07-17T00:00:00\", \"HEADLINE\": \"Imo police confirm arrest of herdsman with arms\", \"ID\": 83, \"compound_trunc\": -0.7}, {\"neg\": 0.0, \"neu\": 1.0, \"pos\": 0.0, \"compound\": 0.0, \"DATE OF REPORT\": \"2018-03-13T00:00:00\", \"HEADLINE\": \"Herdsmen surrender 30 guns to police in Niger\", \"ID\": 24, \"compound_trunc\": 0.0}, {\"neg\": 0.437, \"neu\": 0.563, \"pos\": 0.0, \"compound\": -0.4767, \"DATE OF REPORT\": \"2018-01-19T00:00:00\", \"HEADLINE\": \"Herdsmen attack and a reformed police\", \"ID\": 8, \"compound_trunc\": -0.5}, {\"neg\": 0.0, \"neu\": 1.0, \"pos\": 0.0, \"compound\": 0.0, \"DATE OF REPORT\": \"2018-02-09T00:00:00\", \"HEADLINE\": \"Mixed reactions trail Buhari\\u2019s directive on armed herdsmen\", \"ID\": 17, \"compound_trunc\": 0.0}, {\"neg\": 0.0, \"neu\": 1.0, \"pos\": 0.0, \"compound\": 0.0, \"DATE OF REPORT\": \"2019-05-20T00:00:00\", \"HEADLINE\": \"Ethnic nationalities vow to set up militia against killer herdsmen, Boko Haram terrorists\", \"ID\": 60, \"compound_trunc\": 0.0}, {\"neg\": 0.441, \"neu\": 0.559, \"pos\": 0.0, \"compound\": -0.743, \"DATE OF REPORT\": \"2017-03-20T00:00:00\", \"HEADLINE\": \"Tension as Fulani herdsman murders farmer in Oyo over cattle\", \"ID\": 0, \"compound_trunc\": -0.7}, {\"neg\": 0.0, \"neu\": 1.0, \"pos\": 0.0, \"compound\": 0.0, \"DATE OF REPORT\": \"2019-07-24T00:00:00\", \"HEADLINE\": \"Northern elders insist on herdsmen return to north, accuses FG of bias\", \"ID\": 85, \"compound_trunc\": 0.0}, {\"neg\": 0.231, \"neu\": 0.769, \"pos\": 0.0, \"compound\": -0.3818, \"DATE OF REPORT\": \"\", \"HEADLINE\": null, \"ID\": 57, \"compound_trunc\": -0.4}, {\"neg\": 0.0, \"neu\": 1.0, \"pos\": 0.0, \"compound\": 0.0, \"DATE OF REPORT\": \"2018-03-09T00:00:00\", \"HEADLINE\": \"Herdsmen clashes\", \"ID\": 22, \"compound_trunc\": 0.0}, {\"neg\": 0.0, \"neu\": 0.723, \"pos\": 0.277, \"compound\": 0.3182, \"DATE OF REPORT\": \"2019-05-22T00:00:00\", \"HEADLINE\": \"Don\\u2019t speak for Boko Haram, herdsmen, Afenifere tells FG\", \"ID\": 61, \"compound_trunc\": 0.3}, {\"neg\": 0.0, \"neu\": 1.0, \"pos\": 0.0, \"compound\": 0.0, \"DATE OF REPORT\": \"2019-05-29T00:00:00\", \"HEADLINE\": \"Family of six wiped out in Plateau by suspected herdsmen\", \"ID\": 63, \"compound_trunc\": 0.0}, {\"neg\": 0.451, \"neu\": 0.549, \"pos\": 0.0, \"compound\": -0.6249, \"DATE OF REPORT\": \"2018-01-19T00:00:00\", \"HEADLINE\": \"Herdsmen: Way out of the crisis\", \"ID\": 7, \"compound_trunc\": -0.6}, {\"neg\": 0.286, \"neu\": 0.714, \"pos\": 0.0, \"compound\": -0.5574, \"DATE OF REPORT\": \"2019-08-23T00:00:00\", \"HEADLINE\": \"Youths protest against herdsmen\\u2019s killing of woman in Enugu\", \"ID\": 91, \"compound_trunc\": -0.6}, {\"neg\": 0.0, \"neu\": 1.0, \"pos\": 0.0, \"compound\": 0.0, \"DATE OF REPORT\": \"2018-02-04T00:00:00\", \"HEADLINE\": \"Akinola: See a link between Fulani herdsmen and Boko Haram\", \"ID\": 13, \"compound_trunc\": 0.0}, {\"neg\": 0.0, \"neu\": 1.0, \"pos\": 0.0, \"compound\": 0.0, \"DATE OF REPORT\": \"2019-06-24T00:00:00\", \"HEADLINE\": \"Taraba officials, women accuse security agents of shielding herdsmen over killings\", \"ID\": 68, \"compound_trunc\": 0.0}, {\"neg\": 0.244, \"neu\": 0.756, \"pos\": 0.0, \"compound\": -0.4404, \"DATE OF REPORT\": \"2019-07-08T00:00:00\", \"HEADLINE\": \"Igala deplore activities of herdsmen in Kogi\", \"ID\": 80, \"compound_trunc\": -0.4}, {\"neg\": 0.0, \"neu\": 1.0, \"pos\": 0.0, \"compound\": 0.0, \"DATE OF REPORT\": \"2018-02-05T00:00:00\", \"HEADLINE\": \"The Fulani herdsmen militia siege\", \"ID\": 14, \"compound_trunc\": 0.0}, {\"neg\": 0.463, \"neu\": 0.366, \"pos\": 0.171, \"compound\": -0.7003, \"DATE OF REPORT\": \"2018-03-19T00:00:00\", \"HEADLINE\": \"United Nations urged to declare herdsmen attacks terrorist acts\", \"ID\": 29, \"compound_trunc\": -0.7}, {\"neg\": 0.431, \"neu\": 0.438, \"pos\": 0.131, \"compound\": -0.6249, \"DATE OF REPORT\": \"2018-03-18T00:00:00\", \"HEADLINE\": \"Herdsmen attack: Bello denies playing politics with human lives\\u00a0\", \"ID\": 28, \"compound_trunc\": -0.6}, {\"neg\": 0.425, \"neu\": 0.575, \"pos\": 0.0, \"compound\": -0.5719, \"DATE OF REPORT\": \"2018-01-22T00:00:00\", \"HEADLINE\": \"I believe herdsmen hate me, says Falae\", \"ID\": 11, \"compound_trunc\": -0.6}, {\"neg\": 0.0, \"neu\": 1.0, \"pos\": 0.0, \"compound\": 0.0, \"DATE OF REPORT\": \"2018-02-12T00:00:00\", \"HEADLINE\": \"Restructuring and the herdsmen question\", \"ID\": 18, \"compound_trunc\": 0.0}, {\"neg\": 0.52, \"neu\": 0.48, \"pos\": 0.0, \"compound\": -0.7579, \"DATE OF REPORT\": \"2018-02-25T00:00:00\", \"HEADLINE\": \"Herdsmen killings: British government responds to London protest\", \"ID\": 20, \"compound_trunc\": -0.8}, {\"neg\": 0.485, \"neu\": 0.515, \"pos\": 0.0, \"compound\": -0.765, \"DATE OF REPORT\": \"2019-02-27T00:00:00\", \"HEADLINE\": \"Suspected Fulani herdsmen, others kill 32 in Kaduna, Sokoto\", \"ID\": 50, \"compound_trunc\": -0.8}, {\"neg\": 0.565, \"neu\": 0.435, \"pos\": 0.0, \"compound\": -0.8316, \"DATE OF REPORT\": \"2018-03-16T00:00:00\", \"HEADLINE\": \"Fulani herdsmen kill 32 in Kogi State attack\", \"ID\": 25, \"compound_trunc\": -0.8}, {\"neg\": 0.0, \"neu\": 1.0, \"pos\": 0.0, \"compound\": 0.0, \"DATE OF REPORT\": \"2018-01-18T00:00:00\", \"HEADLINE\": \"Buhari and the herdsmen\\u2019s endgame\", \"ID\": 6, \"compound_trunc\": 0.0}, {\"neg\": 0.437, \"neu\": 0.563, \"pos\": 0.0, \"compound\": -0.7351, \"DATE OF REPORT\": \"2019-06-26T00:00:00\", \"HEADLINE\": \"Indigenes protest against killings by herdsmen, ransack forest in Edo\", \"ID\": 71, \"compound_trunc\": -0.7}, {\"neg\": 0.0, \"neu\": 1.0, \"pos\": 0.0, \"compound\": 0.0, \"DATE OF REPORT\": \"2019-06-28T00:00:00\", \"HEADLINE\": \"PANDEF rejects settlements for herdsmen in Niger Delta\", \"ID\": 76, \"compound_trunc\": 0.0}, {\"neg\": 0.291, \"neu\": 0.709, \"pos\": 0.0, \"compound\": -0.6249, \"DATE OF REPORT\": \"2017-09-28T00:00:00\", \"HEADLINE\": \"Why Nigeria did not declare Fulani herdsmen as terrorists \\u2013 Lai Mohammed\", \"ID\": 1, \"compound_trunc\": -0.6}, {\"neg\": 0.462, \"neu\": 0.538, \"pos\": 0.0, \"compound\": -0.7184, \"DATE OF REPORT\": \"2018-02-07T00:00:00\", \"HEADLINE\": \"Buhari orders arrest, trial of herdsmen with illegal arms\", \"ID\": 16, \"compound_trunc\": -0.7}, {\"neg\": 0.0, \"neu\": 0.87, \"pos\": 0.13, \"compound\": 0.128, \"DATE OF REPORT\": \"2019-06-08T00:00:00\", \"HEADLINE\": \"\\u2018Buhari should focus on herdsmen, Boko Haram, not on Nigerians with legitimate firearms\\u2019\", \"ID\": 64, \"compound_trunc\": 0.1}, {\"neg\": 0.0, \"neu\": 1.0, \"pos\": 0.0, \"compound\": 0.0, \"DATE OF REPORT\": \"2019-07-07T00:00:00\", \"HEADLINE\": \"Arewa leaders task FG on measures to ameliorate plight of Fulani Herdsmen\", \"ID\": 79, \"compound_trunc\": 0.0}, {\"neg\": 0.262, \"neu\": 0.738, \"pos\": 0.0, \"compound\": -0.4939, \"DATE OF REPORT\": \"2018-01-13T00:00:00\", \"HEADLINE\": \"Ikpeazu rejects cattle colony plan for herdsmen in Abia State\", \"ID\": 5, \"compound_trunc\": -0.5}, {\"neg\": 0.314, \"neu\": 0.686, \"pos\": 0.0, \"compound\": -0.4939, \"DATE OF REPORT\": \"2019-06-27T00:00:00\", \"HEADLINE\": \"Imo Assembly decries menace of herdsmen\", \"ID\": 75, \"compound_trunc\": -0.5}, {\"neg\": 0.36, \"neu\": 0.64, \"pos\": 0.0, \"compound\": -0.6705, \"DATE OF REPORT\": \"2018-01-21T00:00:00\", \"HEADLINE\": \"Buhari partisan over herdsmen killings, say South East leaders\", \"ID\": 9, \"compound_trunc\": -0.7}, {\"neg\": 0.113, \"neu\": 0.887, \"pos\": 0.0, \"compound\": -0.1027, \"DATE OF REPORT\": \"2019-06-26T00:00:00\", \"HEADLINE\": \"\\u2018Access to education, reduced poverty will end herdsmen\\u2019s attacks, banditry\\u2019\", \"ID\": 72, \"compound_trunc\": -0.1}, {\"neg\": 0.293, \"neu\": 0.707, \"pos\": 0.0, \"compound\": -0.4404, \"DATE OF REPORT\": \"2018-01-31T00:00:00\", \"HEADLINE\": \"Herdsmen attacks a ploy for ethnic cleansing, Afenifere alleges\", \"ID\": 12, \"compound_trunc\": -0.4}, {\"neg\": 0.281, \"neu\": 0.719, \"pos\": 0.0, \"compound\": -0.6486, \"DATE OF REPORT\": \"2018-05-19T00:00:00\", \"HEADLINE\": \"\\u2018Operation whirl stroke\\u2019 to hit militia herdsmen, killer groups in four states\", \"ID\": 37, \"compound_trunc\": -0.6}]}}, {\"mode\": \"vega-lite\"});\n",
       "</script>"
      ],
      "text/plain": [
       "alt.Chart(...)"
      ]
     },
     "execution_count": 16,
     "metadata": {},
     "output_type": "execute_result"
    }
   ],
   "source": [
    "scatter = alt.Chart(df.sample(n=95, random_state=1)).mark_point().encode(\n",
    "    alt.X(\"DATE OF REPORT\", axis=alt.Axis(title=\"Date\")),\n",
    "    y=alt.Y('compound', axis=alt.Axis(title=\"Polarity Score\")),\n",
    "    color=alt.Color('compound:Q', scale=alt.Scale(scheme='redyellowgreen')), \n",
    "    tooltip=['HEADLINE','compound:Q', 'DATE OF REPORT']\n",
    ").properties(\n",
    "    title=\"Polarity scores of Guardian Newspaper Herdsmen Headlines (2017-2019)\"\n",
    ")\n",
    "\n",
    "scatter"
   ]
  },
  {
   "cell_type": "code",
   "execution_count": null,
   "metadata": {},
   "outputs": [],
   "source": []
  }
 ],
 "metadata": {
  "kernelspec": {
   "display_name": "base",
   "language": "python",
   "name": "python3"
  },
  "language_info": {
   "codemirror_mode": {
    "name": "ipython",
    "version": 3
   },
   "file_extension": ".py",
   "mimetype": "text/x-python",
   "name": "python",
   "nbconvert_exporter": "python",
   "pygments_lexer": "ipython3",
   "version": "3.8.8"
  },
  "orig_nbformat": 4
 },
 "nbformat": 4,
 "nbformat_minor": 2
}
